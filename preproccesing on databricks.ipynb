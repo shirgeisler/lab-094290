{
 "cells": [
  {
   "cell_type": "code",
   "execution_count": 0,
   "metadata": {
    "application/vnd.databricks.v1+cell": {
     "cellMetadata": {
      "byteLimit": 2048000,
      "rowLimit": 10000
     },
     "inputWidgets": {},
     "nuid": "a2d62f41-8d55-4020-8786-027c74051055",
     "showTitle": false,
     "title": ""
    }
   },
   "outputs": [
    {
     "output_type": "stream",
     "name": "stdout",
     "output_type": "stream",
     "text": [
      "Requirement already satisfied: gensim in /local_disk0/.ephemeral_nfs/cluster_libraries/python/lib/python3.9/site-packages (4.3.2)\r\nRequirement already satisfied: scipy>=1.7.0 in /databricks/python3/lib/python3.9/site-packages (from gensim) (1.7.1)\r\nRequirement already satisfied: smart-open>=1.8.1 in /databricks/python3/lib/python3.9/site-packages (from gensim) (6.4.0)\r\nRequirement already satisfied: numpy>=1.18.5 in /databricks/python3/lib/python3.9/site-packages (from gensim) (1.20.3)\r\n\u001B[33mWARNING: You are using pip version 21.2.4; however, version 24.0 is available.\r\nYou should consider upgrading via the '/local_disk0/.ephemeral_nfs/envs/pythonEnv-67c4fcee-9a32-4aa2-b660-c2c01d8d3b27/bin/python -m pip install --upgrade pip' command.\u001B[0m\r\nCollecting bs4\r\n  Using cached bs4-0.0.2-py2.py3-none-any.whl (1.2 kB)\r\nCollecting beautifulsoup4\r\n  Using cached beautifulsoup4-4.12.3-py3-none-any.whl (147 kB)\r\nCollecting soupsieve>1.2\r\n  Using cached soupsieve-2.5-py3-none-any.whl (36 kB)\r\nInstalling collected packages: soupsieve, beautifulsoup4, bs4\r\nSuccessfully installed beautifulsoup4-4.12.3 bs4-0.0.2 soupsieve-2.5\r\n\u001B[33mWARNING: You are using pip version 21.2.4; however, version 24.0 is available.\r\nYou should consider upgrading via the '/local_disk0/.ephemeral_nfs/envs/pythonEnv-67c4fcee-9a32-4aa2-b660-c2c01d8d3b27/bin/python -m pip install --upgrade pip' command.\u001B[0m\r\nCollecting cloudscraper\r\n  Using cached cloudscraper-1.2.71-py2.py3-none-any.whl (99 kB)\r\nCollecting requests-toolbelt>=0.9.1\r\n  Using cached requests_toolbelt-1.0.0-py2.py3-none-any.whl (54 kB)\r\nRequirement already satisfied: requests>=2.9.2 in /databricks/python3/lib/python3.9/site-packages (from cloudscraper) (2.26.0)\r\nRequirement already satisfied: pyparsing>=2.4.7 in /databricks/python3/lib/python3.9/site-packages (from cloudscraper) (3.0.4)\r\nRequirement already satisfied: idna<4,>=2.5 in /databricks/python3/lib/python3.9/site-packages (from requests>=2.9.2->cloudscraper) (3.2)\r\nRequirement already satisfied: charset-normalizer~=2.0.0 in /databricks/python3/lib/python3.9/site-packages (from requests>=2.9.2->cloudscraper) (2.0.4)\r\nRequirement already satisfied: urllib3<1.27,>=1.21.1 in /databricks/python3/lib/python3.9/site-packages (from requests>=2.9.2->cloudscraper) (1.26.7)\r\nRequirement already satisfied: certifi>=2017.4.17 in /databricks/python3/lib/python3.9/site-packages (from requests>=2.9.2->cloudscraper) (2021.10.8)\r\nInstalling collected packages: requests-toolbelt, cloudscraper\r\nSuccessfully installed cloudscraper-1.2.71 requests-toolbelt-1.0.0\r\n\u001B[33mWARNING: You are using pip version 21.2.4; however, version 24.0 is available.\r\nYou should consider upgrading via the '/local_disk0/.ephemeral_nfs/envs/pythonEnv-67c4fcee-9a32-4aa2-b660-c2c01d8d3b27/bin/python -m pip install --upgrade pip' command.\u001B[0m\r\nCollecting google-generativeai\r\n  Using cached google_generativeai-0.4.1-py3-none-any.whl (137 kB)\r\nRequirement already satisfied: protobuf in /databricks/python3/lib/python3.9/site-packages (from google-generativeai) (4.21.5)\r\nRequirement already satisfied: pydantic in /databricks/python3/lib/python3.9/site-packages (from google-generativeai) (2.6.4)\r\nCollecting google-auth>=2.15.0\r\n  Using cached google_auth-2.29.0-py2.py3-none-any.whl (189 kB)\r\nRequirement already satisfied: typing-extensions in /databricks/python3/lib/python3.9/site-packages (from google-generativeai) (4.11.0)\r\nCollecting google-api-core\r\n  Using cached google_api_core-2.18.0-py3-none-any.whl (138 kB)\r\nCollecting google-ai-generativelanguage==0.4.0\r\n  Using cached google_ai_generativelanguage-0.4.0-py3-none-any.whl (598 kB)\r\nRequirement already satisfied: tqdm in /databricks/python3/lib/python3.9/site-packages (from google-generativeai) (4.66.2)\r\nCollecting protobuf\r\n  Using cached protobuf-4.25.3-cp37-abi3-manylinux2014_x86_64.whl (294 kB)\r\nCollecting proto-plus<2.0.0dev,>=1.22.3\r\n  Using cached proto_plus-1.23.0-py3-none-any.whl (48 kB)\r\nCollecting googleapis-common-protos<2.0.dev0,>=1.56.2\r\n  Using cached googleapis_common_protos-1.63.0-py2.py3-none-any.whl (229 kB)\r\nRequirement already satisfied: requests<3.0.0.dev0,>=2.18.0 in /databricks/python3/lib/python3.9/site-packages (from google-api-core->google-generativeai) (2.26.0)\r\nCollecting grpcio-status<2.0.dev0,>=1.33.2\r\n  Using cached grpcio_status-1.62.1-py3-none-any.whl (14 kB)\r\nCollecting grpcio<2.0dev,>=1.33.2\r\n  Using cached grpcio-1.62.1-cp39-cp39-manylinux_2_17_x86_64.manylinux2014_x86_64.whl (5.6 MB)\r\nCollecting rsa<5,>=3.1.4\r\n  Using cached rsa-4.9-py3-none-any.whl (34 kB)\r\nCollecting cachetools<6.0,>=2.0.0\r\n  Using cached cachetools-5.3.3-py3-none-any.whl (9.3 kB)\r\nCollecting pyasn1-modules>=0.2.1\r\n  Using cached pyasn1_modules-0.4.0-py3-none-any.whl (181 kB)\r\nCollecting pyasn1<0.7.0,>=0.4.6\r\n  Using cached pyasn1-0.6.0-py2.py3-none-any.whl (85 kB)\r\nRequirement already satisfied: idna<4,>=2.5 in /databricks/python3/lib/python3.9/site-packages (from requests<3.0.0.dev0,>=2.18.0->google-api-core->google-generativeai) (3.2)\r\nRequirement already satisfied: charset-normalizer~=2.0.0 in /databricks/python3/lib/python3.9/site-packages (from requests<3.0.0.dev0,>=2.18.0->google-api-core->google-generativeai) (2.0.4)\r\nRequirement already satisfied: urllib3<1.27,>=1.21.1 in /databricks/python3/lib/python3.9/site-packages (from requests<3.0.0.dev0,>=2.18.0->google-api-core->google-generativeai) (1.26.7)\r\nRequirement already satisfied: certifi>=2017.4.17 in /databricks/python3/lib/python3.9/site-packages (from requests<3.0.0.dev0,>=2.18.0->google-api-core->google-generativeai) (2021.10.8)\r\nRequirement already satisfied: annotated-types>=0.4.0 in /databricks/python3/lib/python3.9/site-packages (from pydantic->google-generativeai) (0.6.0)\r\nRequirement already satisfied: pydantic-core==2.16.3 in /databricks/python3/lib/python3.9/site-packages (from pydantic->google-generativeai) (2.16.3)\r\nInstalling collected packages: pyasn1, rsa, pyasn1-modules, protobuf, cachetools, proto-plus, grpcio, googleapis-common-protos, google-auth, grpcio-status, google-api-core, google-ai-generativelanguage, google-generativeai\r\n  Attempting uninstall: protobuf\r\n    Found existing installation: protobuf 4.21.5\r\n    Not uninstalling protobuf at /databricks/python3/lib/python3.9/site-packages, outside environment /local_disk0/.ephemeral_nfs/envs/pythonEnv-67c4fcee-9a32-4aa2-b660-c2c01d8d3b27\r\n    Can't uninstall 'protobuf'. No files were found to uninstall.\r\nSuccessfully installed cachetools-5.3.3 google-ai-generativelanguage-0.4.0 google-api-core-2.18.0 google-auth-2.29.0 google-generativeai-0.4.1 googleapis-common-protos-1.63.0 grpcio-1.62.1 grpcio-status-1.62.1 proto-plus-1.23.0 protobuf-4.25.3 pyasn1-0.6.0 pyasn1-modules-0.4.0 rsa-4.9\r\n\u001B[33mWARNING: You are using pip version 21.2.4; however, version 24.0 is available.\r\nYou should consider upgrading via the '/local_disk0/.ephemeral_nfs/envs/pythonEnv-67c4fcee-9a32-4aa2-b660-c2c01d8d3b27/bin/python -m pip install --upgrade pip' command.\u001B[0m\r\nRequirement already satisfied: google-ai-generativelanguage in /local_disk0/.ephemeral_nfs/envs/pythonEnv-67c4fcee-9a32-4aa2-b660-c2c01d8d3b27/lib/python3.9/site-packages (0.4.0)\r\nRequirement already satisfied: google-api-core[grpc]!=2.0.*,!=2.1.*,!=2.10.*,!=2.2.*,!=2.3.*,!=2.4.*,!=2.5.*,!=2.6.*,!=2.7.*,!=2.8.*,!=2.9.*,<3.0.0dev,>=1.34.0 in /local_disk0/.ephemeral_nfs/envs/pythonEnv-67c4fcee-9a32-4aa2-b660-c2c01d8d3b27/lib/python3.9/site-packages (from google-ai-generativelanguage) (2.18.0)\r\nRequirement already satisfied: protobuf!=3.20.0,!=3.20.1,!=4.21.0,!=4.21.1,!=4.21.2,!=4.21.3,!=4.21.4,!=4.21.5,<5.0.0dev,>=3.19.5 in /local_disk0/.ephemeral_nfs/envs/pythonEnv-67c4fcee-9a32-4aa2-b660-c2c01d8d3b27/lib/python3.9/site-packages (from google-ai-generativelanguage) (4.25.3)\r\nRequirement already satisfied: proto-plus<2.0.0dev,>=1.22.3 in /local_disk0/.ephemeral_nfs/envs/pythonEnv-67c4fcee-9a32-4aa2-b660-c2c01d8d3b27/lib/python3.9/site-packages (from google-ai-generativelanguage) (1.23.0)\r\nRequirement already satisfied: googleapis-common-protos<2.0.dev0,>=1.56.2 in /local_disk0/.ephemeral_nfs/envs/pythonEnv-67c4fcee-9a32-4aa2-b660-c2c01d8d3b27/lib/python3.9/site-packages (from google-api-core[grpc]!=2.0.*,!=2.1.*,!=2.10.*,!=2.2.*,!=2.3.*,!=2.4.*,!=2.5.*,!=2.6.*,!=2.7.*,!=2.8.*,!=2.9.*,<3.0.0dev,>=1.34.0->google-ai-generativelanguage) (1.63.0)\r\nRequirement already satisfied: google-auth<3.0.dev0,>=2.14.1 in /local_disk0/.ephemeral_nfs/envs/pythonEnv-67c4fcee-9a32-4aa2-b660-c2c01d8d3b27/lib/python3.9/site-packages (from google-api-core[grpc]!=2.0.*,!=2.1.*,!=2.10.*,!=2.2.*,!=2.3.*,!=2.4.*,!=2.5.*,!=2.6.*,!=2.7.*,!=2.8.*,!=2.9.*,<3.0.0dev,>=1.34.0->google-ai-generativelanguage) (2.29.0)\r\nRequirement already satisfied: requests<3.0.0.dev0,>=2.18.0 in /databricks/python3/lib/python3.9/site-packages (from google-api-core[grpc]!=2.0.*,!=2.1.*,!=2.10.*,!=2.2.*,!=2.3.*,!=2.4.*,!=2.5.*,!=2.6.*,!=2.7.*,!=2.8.*,!=2.9.*,<3.0.0dev,>=1.34.0->google-ai-generativelanguage) (2.26.0)\r\nRequirement already satisfied: grpcio-status<2.0.dev0,>=1.33.2 in /local_disk0/.ephemeral_nfs/envs/pythonEnv-67c4fcee-9a32-4aa2-b660-c2c01d8d3b27/lib/python3.9/site-packages (from google-api-core[grpc]!=2.0.*,!=2.1.*,!=2.10.*,!=2.2.*,!=2.3.*,!=2.4.*,!=2.5.*,!=2.6.*,!=2.7.*,!=2.8.*,!=2.9.*,<3.0.0dev,>=1.34.0->google-ai-generativelanguage) (1.62.1)\r\nRequirement already satisfied: grpcio<2.0dev,>=1.33.2 in /local_disk0/.ephemeral_nfs/envs/pythonEnv-67c4fcee-9a32-4aa2-b660-c2c01d8d3b27/lib/python3.9/site-packages (from google-api-core[grpc]!=2.0.*,!=2.1.*,!=2.10.*,!=2.2.*,!=2.3.*,!=2.4.*,!=2.5.*,!=2.6.*,!=2.7.*,!=2.8.*,!=2.9.*,<3.0.0dev,>=1.34.0->google-ai-generativelanguage) (1.62.1)\r\nRequirement already satisfied: rsa<5,>=3.1.4 in /local_disk0/.ephemeral_nfs/envs/pythonEnv-67c4fcee-9a32-4aa2-b660-c2c01d8d3b27/lib/python3.9/site-packages (from google-auth<3.0.dev0,>=2.14.1->google-api-core[grpc]!=2.0.*,!=2.1.*,!=2.10.*,!=2.2.*,!=2.3.*,!=2.4.*,!=2.5.*,!=2.6.*,!=2.7.*,!=2.8.*,!=2.9.*,<3.0.0dev,>=1.34.0->google-ai-generativelanguage) (4.9)\r\nRequirement already satisfied: cachetools<6.0,>=2.0.0 in /local_disk0/.ephemeral_nfs/envs/pythonEnv-67c4fcee-9a32-4aa2-b660-c2c01d8d3b27/lib/python3.9/site-packages (from google-auth<3.0.dev0,>=2.14.1->google-api-core[grpc]!=2.0.*,!=2.1.*,!=2.10.*,!=2.2.*,!=2.3.*,!=2.4.*,!=2.5.*,!=2.6.*,!=2.7.*,!=2.8.*,!=2.9.*,<3.0.0dev,>=1.34.0->google-ai-generativelanguage) (5.3.3)\r\nRequirement already satisfied: pyasn1-modules>=0.2.1 in /local_disk0/.ephemeral_nfs/envs/pythonEnv-67c4fcee-9a32-4aa2-b660-c2c01d8d3b27/lib/python3.9/site-packages (from google-auth<3.0.dev0,>=2.14.1->google-api-core[grpc]!=2.0.*,!=2.1.*,!=2.10.*,!=2.2.*,!=2.3.*,!=2.4.*,!=2.5.*,!=2.6.*,!=2.7.*,!=2.8.*,!=2.9.*,<3.0.0dev,>=1.34.0->google-ai-generativelanguage) (0.4.0)\r\nRequirement already satisfied: pyasn1<0.7.0,>=0.4.6 in /local_disk0/.ephemeral_nfs/envs/pythonEnv-67c4fcee-9a32-4aa2-b660-c2c01d8d3b27/lib/python3.9/site-packages (from pyasn1-modules>=0.2.1->google-auth<3.0.dev0,>=2.14.1->google-api-core[grpc]!=2.0.*,!=2.1.*,!=2.10.*,!=2.2.*,!=2.3.*,!=2.4.*,!=2.5.*,!=2.6.*,!=2.7.*,!=2.8.*,!=2.9.*,<3.0.0dev,>=1.34.0->google-ai-generativelanguage) (0.6.0)\r\nRequirement already satisfied: idna<4,>=2.5 in /databricks/python3/lib/python3.9/site-packages (from requests<3.0.0.dev0,>=2.18.0->google-api-core[grpc]!=2.0.*,!=2.1.*,!=2.10.*,!=2.2.*,!=2.3.*,!=2.4.*,!=2.5.*,!=2.6.*,!=2.7.*,!=2.8.*,!=2.9.*,<3.0.0dev,>=1.34.0->google-ai-generativelanguage) (3.2)\r\nRequirement already satisfied: charset-normalizer~=2.0.0 in /databricks/python3/lib/python3.9/site-packages (from requests<3.0.0.dev0,>=2.18.0->google-api-core[grpc]!=2.0.*,!=2.1.*,!=2.10.*,!=2.2.*,!=2.3.*,!=2.4.*,!=2.5.*,!=2.6.*,!=2.7.*,!=2.8.*,!=2.9.*,<3.0.0dev,>=1.34.0->google-ai-generativelanguage) (2.0.4)\r\nRequirement already satisfied: urllib3<1.27,>=1.21.1 in /databricks/python3/lib/python3.9/site-packages (from requests<3.0.0.dev0,>=2.18.0->google-api-core[grpc]!=2.0.*,!=2.1.*,!=2.10.*,!=2.2.*,!=2.3.*,!=2.4.*,!=2.5.*,!=2.6.*,!=2.7.*,!=2.8.*,!=2.9.*,<3.0.0dev,>=1.34.0->google-ai-generativelanguage) (1.26.7)\r\nRequirement already satisfied: certifi>=2017.4.17 in /databricks/python3/lib/python3.9/site-packages (from requests<3.0.0.dev0,>=2.18.0->google-api-core[grpc]!=2.0.*,!=2.1.*,!=2.10.*,!=2.2.*,!=2.3.*,!=2.4.*,!=2.5.*,!=2.6.*,!=2.7.*,!=2.8.*,!=2.9.*,<3.0.0dev,>=1.34.0->google-ai-generativelanguage) (2021.10.8)\r\n\u001B[33mWARNING: You are using pip version 21.2.4; however, version 24.0 is available.\r\nYou should consider upgrading via the '/local_disk0/.ephemeral_nfs/envs/pythonEnv-67c4fcee-9a32-4aa2-b660-c2c01d8d3b27/bin/python -m pip install --upgrade pip' command.\u001B[0m\r\n/bin/bash: gcloud: command not found\r\n/bin/bash: gcloud: command not found\r\nCollecting sentence_transformers\r\n  Using cached sentence_transformers-2.6.1-py3-none-any.whl (163 kB)\r\nCollecting torch>=1.11.0\r\n  Using cached torch-2.2.2-cp39-cp39-manylinux1_x86_64.whl (755.5 MB)\r\nRequirement already satisfied: numpy in /databricks/python3/lib/python3.9/site-packages (from sentence_transformers) (1.20.3)\r\nRequirement already satisfied: scipy in /databricks/python3/lib/python3.9/site-packages (from sentence_transformers) (1.7.1)\r\nCollecting huggingface-hub>=0.15.1\r\n  Using cached huggingface_hub-0.22.2-py3-none-any.whl (388 kB)\r\nRequirement already satisfied: Pillow in /databricks/python3/lib/python3.9/site-packages (from sentence_transformers) (8.4.0)\r\nRequirement already satisfied: scikit-learn in /databricks/python3/lib/python3.9/site-packages (from sentence_transformers) (0.24.2)\r\nRequirement already satisfied: tqdm in /databricks/python3/lib/python3.9/site-packages (from sentence_transformers) (4.66.2)\r\nCollecting transformers<5.0.0,>=4.32.0\r\n  Using cached transformers-4.39.3-py3-none-any.whl (8.8 MB)\r\nCollecting pyyaml>=5.1\r\n  Using cached PyYAML-6.0.1-cp39-cp39-manylinux_2_17_x86_64.manylinux2014_x86_64.whl (738 kB)\r\nRequirement already satisfied: typing-extensions>=3.7.4.3 in /databricks/python3/lib/python3.9/site-packages (from huggingface-hub>=0.15.1->sentence_transformers) (4.11.0)\r\nRequirement already satisfied: filelock in /usr/local/lib/python3.9/dist-packages (from huggingface-hub>=0.15.1->sentence_transformers) (3.8.0)\r\nCollecting fsspec>=2023.5.0\r\n  Using cached fsspec-2024.3.1-py3-none-any.whl (171 kB)\r\nRequirement already satisfied: packaging>=20.9 in /databricks/python3/lib/python3.9/site-packages (from huggingface-hub>=0.15.1->sentence_transformers) (21.0)\r\nRequirement already satisfied: requests in /databricks/python3/lib/python3.9/site-packages (from huggingface-hub>=0.15.1->sentence_transformers) (2.26.0)\r\nRequirement already satisfied: pyparsing>=2.0.2 in /databricks/python3/lib/python3.9/site-packages (from packaging>=20.9->huggingface-hub>=0.15.1->sentence_transformers) (3.0.4)\r\nCollecting nvidia-cuda-nvrtc-cu12==12.1.105\r\n  Using cached nvidia_cuda_nvrtc_cu12-12.1.105-py3-none-manylinux1_x86_64.whl (23.7 MB)\r\nCollecting nvidia-cudnn-cu12==8.9.2.26\r\n  Using cached nvidia_cudnn_cu12-8.9.2.26-py3-none-manylinux1_x86_64.whl (731.7 MB)\r\nCollecting nvidia-nvtx-cu12==12.1.105\r\n  Using cached nvidia_nvtx_cu12-12.1.105-py3-none-manylinux1_x86_64.whl (99 kB)\r\nRequirement already satisfied: jinja2 in /databricks/python3/lib/python3.9/site-packages (from torch>=1.11.0->sentence_transformers) (2.11.3)\r\nCollecting nvidia-cusparse-cu12==12.1.0.106\r\n  Using cached nvidia_cusparse_cu12-12.1.0.106-py3-none-manylinux1_x86_64.whl (196.0 MB)\r\nCollecting nvidia-cublas-cu12==12.1.3.1\r\n  Using cached nvidia_cublas_cu12-12.1.3.1-py3-none-manylinux1_x86_64.whl (410.6 MB)\r\nCollecting nvidia-cufft-cu12==11.0.2.54\r\n  Using cached nvidia_cufft_cu12-11.0.2.54-py3-none-manylinux1_x86_64.whl (121.6 MB)\r\nCollecting nvidia-nccl-cu12==2.19.3\r\n  Using cached nvidia_nccl_cu12-2.19.3-py3-none-manylinux1_x86_64.whl (166.0 MB)\r\nCollecting nvidia-cuda-cupti-cu12==12.1.105\r\n  Using cached nvidia_cuda_cupti_cu12-12.1.105-py3-none-manylinux1_x86_64.whl (14.1 MB)\r\nCollecting sympy\r\n  Using cached sympy-1.12-py3-none-any.whl (5.7 MB)\r\nCollecting triton==2.2.0\r\n  Using cached triton-2.2.0-cp39-cp39-manylinux_2_17_x86_64.manylinux2014_x86_64.whl (167.9 MB)\r\nCollecting networkx\r\n  Using cached networkx-3.2.1-py3-none-any.whl (1.6 MB)\r\nCollecting nvidia-cusolver-cu12==11.4.5.107\r\n  Using cached nvidia_cusolver_cu12-11.4.5.107-py3-none-manylinux1_x86_64.whl (124.2 MB)\r\nCollecting nvidia-curand-cu12==10.3.2.106\r\n  Using cached nvidia_curand_cu12-10.3.2.106-py3-none-manylinux1_x86_64.whl (56.5 MB)\r\nCollecting nvidia-cuda-runtime-cu12==12.1.105\r\n  Using cached nvidia_cuda_runtime_cu12-12.1.105-py3-none-manylinux1_x86_64.whl (823 kB)\r\nCollecting nvidia-nvjitlink-cu12\r\n  Using cached nvidia_nvjitlink_cu12-12.4.127-py3-none-manylinux2014_x86_64.whl (21.1 MB)\r\nRequirement already satisfied: regex!=2019.12.17 in /databricks/python3/lib/python3.9/site-packages (from transformers<5.0.0,>=4.32.0->sentence_transformers) (2023.12.25)\r\nCollecting tokenizers<0.19,>=0.14\r\n  Using cached tokenizers-0.15.2-cp39-cp39-manylinux_2_17_x86_64.manylinux2014_x86_64.whl (3.6 MB)\r\nCollecting safetensors>=0.4.1\r\n  Using cached safetensors-0.4.2-cp39-cp39-manylinux_2_17_x86_64.manylinux2014_x86_64.whl (1.3 MB)\r\nRequirement already satisfied: MarkupSafe>=0.23 in /databricks/python3/lib/python3.9/site-packages (from jinja2->torch>=1.11.0->sentence_transformers) (2.0.1)\r\nRequirement already satisfied: idna<4,>=2.5 in /databricks/python3/lib/python3.9/site-packages (from requests->huggingface-hub>=0.15.1->sentence_transformers) (3.2)\r\nRequirement already satisfied: charset-normalizer~=2.0.0 in /databricks/python3/lib/python3.9/site-packages (from requests->huggingface-hub>=0.15.1->sentence_transformers) (2.0.4)\r\nRequirement already satisfied: urllib3<1.27,>=1.21.1 in /databricks/python3/lib/python3.9/site-packages (from requests->huggingface-hub>=0.15.1->sentence_transformers) (1.26.7)\r\nRequirement already satisfied: certifi>=2017.4.17 in /databricks/python3/lib/python3.9/site-packages (from requests->huggingface-hub>=0.15.1->sentence_transformers) (2021.10.8)\r\nRequirement already satisfied: threadpoolctl>=2.0.0 in /databricks/python3/lib/python3.9/site-packages (from scikit-learn->sentence_transformers) (2.2.0)\r\nRequirement already satisfied: joblib>=0.11 in /databricks/python3/lib/python3.9/site-packages (from scikit-learn->sentence_transformers) (1.0.1)\r\nCollecting mpmath>=0.19\r\n  Using cached mpmath-1.3.0-py3-none-any.whl (536 kB)\r\nInstalling collected packages: pyyaml, nvidia-nvjitlink-cu12, fsspec, nvidia-cusparse-cu12, nvidia-cublas-cu12, mpmath, huggingface-hub, triton, tokenizers, sympy, safetensors, nvidia-nvtx-cu12, nvidia-nccl-cu12, nvidia-cusolver-cu12, nvidia-curand-cu12, nvidia-cufft-cu12, nvidia-cudnn-cu12, nvidia-cuda-runtime-cu12, nvidia-cuda-nvrtc-cu12, nvidia-cuda-cupti-cu12, networkx, transformers, torch, sentence-transformers\r\nSuccessfully installed fsspec-2024.3.1 huggingface-hub-0.22.2 mpmath-1.3.0 networkx-3.2.1 nvidia-cublas-cu12-12.1.3.1 nvidia-cuda-cupti-cu12-12.1.105 nvidia-cuda-nvrtc-cu12-12.1.105 nvidia-cuda-runtime-cu12-12.1.105 nvidia-cudnn-cu12-8.9.2.26 nvidia-cufft-cu12-11.0.2.54 nvidia-curand-cu12-10.3.2.106 nvidia-cusolver-cu12-11.4.5.107 nvidia-cusparse-cu12-12.1.0.106 nvidia-nccl-cu12-2.19.3 nvidia-nvjitlink-cu12-12.4.127 nvidia-nvtx-cu12-12.1.105 pyyaml-6.0.1 safetensors-0.4.2 sentence-transformers-2.6.1 sympy-1.12 tokenizers-0.15.2 torch-2.2.2 transformers-4.39.3 triton-2.2.0\r\n\u001B[33mWARNING: You are using pip version 21.2.4; however, version 24.0 is available.\r\nYou should consider upgrading via the '/local_disk0/.ephemeral_nfs/envs/pythonEnv-67c4fcee-9a32-4aa2-b660-c2c01d8d3b27/bin/python -m pip install --upgrade pip' command.\u001B[0m\r\n"
     ]
    }
   ],
   "source": [
    "!pip install gensim\n",
    "!pip install bs4\n",
    "!pip install cloudscraper"
   ]
  },
  {
   "cell_type": "code",
   "execution_count": 0,
   "metadata": {
    "application/vnd.databricks.v1+cell": {
     "cellMetadata": {
      "byteLimit": 2048000,
      "rowLimit": 10000
     },
     "inputWidgets": {},
     "nuid": "c783803e-e67a-4395-ae56-09e9df89e1ae",
     "showTitle": false,
     "title": ""
    }
   },
   "outputs": [
    {
     "output_type": "display_data",
     "data": {
      "application/vnd.databricks.v1+bamboolib_hint": "{\"pd.DataFrames\": [], \"version\": \"0.0.1\"}",
      "text/plain": []
     },
     "metadata": {},
     "output_type": "display_data"
    }
   ],
   "source": [
    "from pyspark.sql.types import *\n",
    "import pyspark\n",
    "from pyspark.sql import SparkSession\n",
    "from pyspark.sql.functions import size, col, explode, expr, sum, first, udf, split, when\n",
    "import cloudscraper\n",
    "from bs4 import BeautifulSoup\n",
    "import pathlib\n",
    "import textwrap\n",
    "from pyspark.sql.functions import udf\n",
    "import numpy as np\n",
    "\n",
    "spark = SparkSession.builder.getOrCreate()"
   ]
  },
  {
   "cell_type": "code",
   "execution_count": 0,
   "metadata": {
    "application/vnd.databricks.v1+cell": {
     "cellMetadata": {
      "byteLimit": 2048000,
      "rowLimit": 10000
     },
     "inputWidgets": {},
     "nuid": "821d736b-e658-43c0-91d8-1196abb38b59",
     "showTitle": true,
     "title": "Loading the data and filltering columns"
    }
   },
   "outputs": [],
   "source": [
    "people = spark.read.parquet('/linkedin/people')\n",
    "people = people.select(\"about\", \"id\",'certifications','education','experience','followers','position','posts','recommendations' ,'url').\\\n",
    "where(size(\"posts\")>0)\n",
    "people = people.sample(withReplacement=False, fraction=2500/people.count(), seed=42)\n"
   ]
  },
  {
   "cell_type": "code",
   "execution_count": 0,
   "metadata": {
    "application/vnd.databricks.v1+cell": {
     "cellMetadata": {
      "byteLimit": 2048000,
      "rowLimit": 10000
     },
     "inputWidgets": {},
     "nuid": "a5c43822-1908-4a71-a188-651d76c32959",
     "showTitle": true,
     "title": "UDFs"
    }
   },
   "outputs": [],
   "source": [
    "def convert_experience_to_duration(duration):\n",
    "    total_lst = []\n",
    "    for dur in duration:\n",
    "        total = 0\n",
    "        if dur is None:\n",
    "            continue\n",
    "\n",
    "        unit_to_months = {'year': 12, 'years': 12, 'month': 1, 'months': 1}\n",
    "\n",
    "        if 'less than a year' in dur:\n",
    "            total += 6\n",
    "        else:\n",
    "            total_months = 0\n",
    "            parts = dur.split()\n",
    "            for i in range(0, len(parts), 2):\n",
    "                value = int(parts[i])\n",
    "                unit = parts[i + 1]\n",
    "                total_months += value * unit_to_months.get(unit, 0)  # Use .get() for safety\n",
    "\n",
    "            total += total_months\n",
    "        total_lst.append(total)\n",
    "    \n",
    "    if len(total_lst) == 0:\n",
    "        return 0\n",
    "    sum_total = 0\n",
    "    for elem in total_lst:\n",
    "        sum_total += elem\n",
    "    return sum_total\n",
    "\n",
    "convert_experience_to_duration_udf = udf(convert_experience_to_duration, returnType=IntegerType())\n",
    "\n",
    "@udf(ArrayType(StringType()))\n",
    "def extract_text_from_links(links):\n",
    "    all_text = []\n",
    "    scraper = cloudscraper.create_scraper()\n",
    "\n",
    "    for link in links:\n",
    "        match_response = scraper.get(link)\n",
    "        html_content = match_response.text\n",
    "        soup = BeautifulSoup(html_content, 'html.parser')\n",
    "        \n",
    "        try:\n",
    "            text = soup.find('div', class_='article-main__content max-w-[744px]').text\n",
    "            all_text.append(text)\n",
    "        except:\n",
    "            try:\n",
    "                text = soup.find('div', class_='article-main__content').text\n",
    "                all_text.append(text)\n",
    "            except:\n",
    "                try:\n",
    "                    text = soup.find('div', class_='article-content-blocks').text\n",
    "                    all_text.append(text)\n",
    "                except:\n",
    "                    continue\n",
    "    \n",
    "    return all_text\n",
    "\n",
    "@udf(ArrayType(StringType()))\n",
    "def extract_title(links):\n",
    "    all_titles = []\n",
    "    scraper = cloudscraper.create_scraper()  # returns a CloudScraper instance\n",
    "\n",
    "    for link in links:\n",
    "        match_response = scraper.get(link)\n",
    "        html_content = match_response.text\n",
    "        soup = BeautifulSoup(html_content, 'html.parser')\n",
    "        try:\n",
    "            text = soup.find('title').text\n",
    "            all_titles.append(text)\n",
    "        except:\n",
    "            continue\n",
    "    return all_titles\n",
    "\n",
    "@udf(StructType([\n",
    "    StructField(\"comments\", MapType(IntegerType(), ArrayType(StringType()))),\n",
    "    StructField(\"total_comments\", IntegerType())\n",
    "]))\n",
    "def get_comments(links):\n",
    "    comments_dict = {}\n",
    "    total_comments = 0    \n",
    "    for i, link in enumerate(links):\n",
    "        comments = []\n",
    "        scraper = cloudscraper.create_scraper()\n",
    "        match_response = scraper.get(link)\n",
    "        html_content = match_response.text        \n",
    "        soup = BeautifulSoup(html_content, 'html.parser')        \n",
    "        comment_blocks = soup.find_all('section', class_='comment')\n",
    "        for block in comment_blocks:\n",
    "            comment_text_element = block.find('p', class_='comment__text')\n",
    "            if comment_text_element:\n",
    "                comment_text = comment_text_element.text.strip()\n",
    "                comments.append(comment_text)\n",
    "                total_comments += 1\n",
    "        comments_dict[i] = comments\n",
    "    return comments_dict, total_comments"
   ]
  },
  {
   "cell_type": "code",
   "execution_count": 0,
   "metadata": {
    "application/vnd.databricks.v1+cell": {
     "cellMetadata": {
      "byteLimit": 2048000,
      "rowLimit": 10000
     },
     "inputWidgets": {},
     "nuid": "9b4e7680-a5be-4d95-a15f-f849a0577291",
     "showTitle": true,
     "title": "Preprocessing"
    }
   },
   "outputs": [],
   "source": [
    "people= people.\\\n",
    "withColumn(\"degree\", col(\"education\").getItem(\"degree\")).\\\n",
    "withColumn(\"field\", col(\"education\").getItem(\"field\")).\\\n",
    "drop(\"education\").\\\n",
    "withColumn(\"duration_short\", col(\"experience\").getItem(\"duration_short\")).\\\n",
    "drop(\"experience\").\\\n",
    "withColumn('duration_short_numeric', convert_experience_to_duration_udf(col('duration_short'))).\\\n",
    "drop('duration_short').\\\n",
    "withColumn('certifications', expr(\"transform(certifications, x -> x.title)\")).\\\n",
    "withColumn('posts', expr(\"transform(posts, x -> x.link)\")).\\\n",
    "withColumn(\"post_content\", extract_text_from_links(col(\"posts\"))).\\\n",
    "withColumn(\"post_title\", extract_title(col(\"posts\"))).\\\n",
    "withColumn(\"comments_and_counts\", get_comments(col(\"posts\"))).\\\n",
    "withColumn(\"comments\", col(\"comments_and_counts\").comments).\\\n",
    "withColumn(\"total_comments\", col(\"comments_and_counts\").total_comments).\\\n",
    "drop(\"comments_and_counts\")"
   ]
  },
  {
   "cell_type": "code",
   "execution_count": 0,
   "metadata": {
    "application/vnd.databricks.v1+cell": {
     "cellMetadata": {
      "byteLimit": 2048000,
      "rowLimit": 10000
     },
     "inputWidgets": {},
     "nuid": "562230a7-a8ff-451b-833a-47d1ed42a88d",
     "showTitle": true,
     "title": "Saving the data"
    }
   },
   "outputs": [],
   "source": [
    "people.write.mode(\"overwrite\").format(\"json\").save(\"/Workspace/Users/shir.g@campus.technion.ac.il/final_project/people.json\")\n",
    "people = spark.read.format(\"json\").load(\"/Workspace/Users/shir.g@campus.technion.ac.il/final_project/people.json\")\n",
    "people.display()"
   ]
  }
 ],
 "metadata": {
  "application/vnd.databricks.v1+notebook": {
   "dashboards": [],
   "language": "python",
   "notebookMetadata": {
    "pythonIndentUnit": 4
   },
   "notebookName": "Untitled Notebook 2024-04-07 16:46:04",
   "widgets": {}
  }
 },
 "nbformat": 4,
 "nbformat_minor": 0
}
